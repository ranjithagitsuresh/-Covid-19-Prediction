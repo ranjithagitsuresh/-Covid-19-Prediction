{
 "cells": [
  {
   "cell_type": "markdown",
   "metadata": {},
   "source": []
  },
  {
   "cell_type": "code",
   "execution_count": 1,
   "metadata": {
    "colab": {},
    "colab_type": "code",
    "id": "qLgXb1phenfr"
   },
   "outputs": [],
   "source": [
    "import numpy as np\n",
    "\n",
    "data=np.load('data.npy')\n",
    "target=np.load('target.npy')"
   ]
  },
  {
   "cell_type": "code",
   "execution_count": 2,
   "metadata": {
    "colab": {
     "base_uri": "https://localhost:8080/",
     "height": 717
    },
    "colab_type": "code",
    "id": "ertMpl3renfx",
    "outputId": "b9281743-2e68-4cb3-d16f-2b46fcc2bbbf"
   },
   "outputs": [
    {
     "name": "stderr",
     "output_type": "stream",
     "text": [
      "Using TensorFlow backend.\n",
      "C:\\Users\\DELL\\anaconda3\\envs\\tf\\lib\\site-packages\\ipykernel_launcher.py:17: UserWarning: Update your `Conv2D` call to the Keras 2 API: `Conv2D(128, 3, activation=\"relu\", input_shape=(100, 100,..., strides=1, padding=\"same\")`\n",
      "C:\\Users\\DELL\\anaconda3\\envs\\tf\\lib\\site-packages\\ipykernel_launcher.py:17: UserWarning: Update your `Conv2D` call to the Keras 2 API: `Conv2D(128, 5, activation=\"relu\", input_shape=(100, 100,..., strides=1, padding=\"same\")`\n",
      "C:\\Users\\DELL\\anaconda3\\envs\\tf\\lib\\site-packages\\ipykernel_launcher.py:17: UserWarning: Update your `Conv2D` call to the Keras 2 API: `Conv2D(128, 7, activation=\"relu\", input_shape=(100, 100,..., strides=1, padding=\"same\")`\n",
      "C:\\Users\\DELL\\anaconda3\\envs\\tf\\lib\\site-packages\\ipykernel_launcher.py:21: UserWarning: Update your `Model` call to the Keras 2 API: `Model(inputs=Tensor(\"in..., outputs=Tensor(\"co...)`\n"
     ]
    },
    {
     "name": "stdout",
     "output_type": "stream",
     "text": [
      "Model: \"sequential_1\"\n",
      "_________________________________________________________________\n",
      "Layer (type)                 Output Shape              Param #   \n",
      "=================================================================\n",
      "model_1 (Model)              (None, 100, 100, 384)     11008     \n",
      "_________________________________________________________________\n",
      "conv2d_4 (Conv2D)            (None, 98, 98, 64)        221248    \n",
      "_________________________________________________________________\n",
      "activation_1 (Activation)    (None, 98, 98, 64)        0         \n",
      "_________________________________________________________________\n",
      "max_pooling2d_1 (MaxPooling2 (None, 49, 49, 64)        0         \n",
      "_________________________________________________________________\n",
      "conv2d_5 (Conv2D)            (None, 47, 47, 32)        18464     \n",
      "_________________________________________________________________\n",
      "activation_2 (Activation)    (None, 47, 47, 32)        0         \n",
      "_________________________________________________________________\n",
      "max_pooling2d_2 (MaxPooling2 (None, 23, 23, 32)        0         \n",
      "_________________________________________________________________\n",
      "flatten_1 (Flatten)          (None, 16928)             0         \n",
      "_________________________________________________________________\n",
      "dropout_1 (Dropout)          (None, 16928)             0         \n",
      "_________________________________________________________________\n",
      "dense_1 (Dense)              (None, 128)               2166912   \n",
      "_________________________________________________________________\n",
      "dropout_2 (Dropout)          (None, 128)               0         \n",
      "_________________________________________________________________\n",
      "dense_2 (Dense)              (None, 64)                8256      \n",
      "_________________________________________________________________\n",
      "dropout_3 (Dropout)          (None, 64)                0         \n",
      "_________________________________________________________________\n",
      "dense_3 (Dense)              (None, 2)                 130       \n",
      "=================================================================\n",
      "Total params: 2,426,018\n",
      "Trainable params: 2,426,018\n",
      "Non-trainable params: 0\n",
      "_________________________________________________________________\n"
     ]
    }
   ],
   "source": [
    "from keras.models import Sequential,Model\n",
    "from keras.layers import Dense, Dropout, Flatten\n",
    "from keras.layers import Conv2D,Activation,MaxPooling2D\n",
    "from keras.utils import normalize\n",
    "from keras.layers import Concatenate\n",
    "from keras import Input\n",
    "from keras.callbacks import ModelCheckpoint\n",
    "\n",
    "input_shape=data.shape[1:] #50,50,1\n",
    "inp=Input(shape=input_shape)\n",
    "convs=[]\n",
    "\n",
    "parrallel_kernels=[3,5,7]\n",
    "\n",
    "for k in range(len(parrallel_kernels)):\n",
    "\n",
    "    conv = Conv2D(128, parrallel_kernels[k],border_mode='same',activation='relu',input_shape=input_shape,strides=1)(inp)\n",
    "    convs.append(conv)\n",
    "\n",
    "out = Concatenate()(convs)\n",
    "conv_model = Model(input=inp, output=out)\n",
    "\n",
    "model = Sequential()\n",
    "model.add(conv_model)\n",
    "\n",
    "model.add(Conv2D(64,(3,3)))\n",
    "model.add(Activation('relu'))\n",
    "model.add(MaxPooling2D(pool_size=(2,2)))\n",
    "\n",
    "model.add(Conv2D(32,(3,3)))\n",
    "model.add(Activation('relu'))\n",
    "model.add(MaxPooling2D(pool_size=(2,2)))\n",
    "\n",
    "model.add(Flatten())\n",
    "model.add(Dropout(0.5))\n",
    "model.add(Dense(128,activation='relu'))\n",
    "model.add(Dropout(0.5))\n",
    "model.add(Dense(64,activation='relu'))\n",
    "model.add(Dropout(0.5))\n",
    "model.add(Dense(2,input_dim=128,activation='softmax'))\n",
    "model.compile(loss='categorical_crossentropy',optimizer='adam',metrics=['accuracy'])\n",
    "\n",
    "model.summary()"
   ]
  },
  {
   "cell_type": "code",
   "execution_count": 3,
   "metadata": {
    "colab": {},
    "colab_type": "code",
    "id": "WQkqpg28engN"
   },
   "outputs": [],
   "source": [
    "from sklearn.model_selection import train_test_split\n",
    "\n",
    "train_data,test_data,train_target,test_target=train_test_split(data,target,test_size=0.1)"
   ]
  },
  {
   "cell_type": "code",
   "execution_count": 4,
   "metadata": {
    "colab": {
     "base_uri": "https://localhost:8080/",
     "height": 714
    },
    "colab_type": "code",
    "id": "wo2sqr4CengR",
    "outputId": "3de2ac82-256a-432b-ff0c-fcddd94493da"
   },
   "outputs": [
    {
     "name": "stdout",
     "output_type": "stream",
     "text": [
      "Train on 504 samples, validate on 56 samples\n",
      "Epoch 1/20\n",
      "504/504 [==============================] - 149s 296ms/step - loss: 0.5932 - accuracy: 0.8214 - val_loss: 0.3818 - val_accuracy: 0.8750\n",
      "Epoch 2/20\n",
      "504/504 [==============================] - 157s 312ms/step - loss: 0.4544 - accuracy: 0.8611 - val_loss: 0.3841 - val_accuracy: 0.8750\n",
      "Epoch 3/20\n",
      "504/504 [==============================] - 144s 285ms/step - loss: 0.4150 - accuracy: 0.8631 - val_loss: 0.3740 - val_accuracy: 0.8750\n",
      "Epoch 4/20\n",
      "504/504 [==============================] - 154s 305ms/step - loss: 0.3942 - accuracy: 0.8651 - val_loss: 0.4092 - val_accuracy: 0.8750\n",
      "Epoch 5/20\n",
      "504/504 [==============================] - 137s 272ms/step - loss: 0.3841 - accuracy: 0.8651 - val_loss: 0.3566 - val_accuracy: 0.8750\n",
      "Epoch 6/20\n",
      "504/504 [==============================] - 130s 259ms/step - loss: 0.3884 - accuracy: 0.8651 - val_loss: 0.3381 - val_accuracy: 0.8750\n",
      "Epoch 7/20\n",
      "504/504 [==============================] - 134s 267ms/step - loss: 0.3417 - accuracy: 0.8631 - val_loss: 0.3563 - val_accuracy: 0.8750\n",
      "Epoch 8/20\n",
      "504/504 [==============================] - 143s 284ms/step - loss: 0.3608 - accuracy: 0.8730 - val_loss: 0.3805 - val_accuracy: 0.8393\n",
      "Epoch 9/20\n",
      "504/504 [==============================] - 135s 267ms/step - loss: 0.3634 - accuracy: 0.8671 - val_loss: 0.3589 - val_accuracy: 0.8750\n",
      "Epoch 10/20\n",
      "504/504 [==============================] - 142s 281ms/step - loss: 0.3283 - accuracy: 0.8730 - val_loss: 0.3577 - val_accuracy: 0.8750\n",
      "Epoch 11/20\n",
      "504/504 [==============================] - 132s 261ms/step - loss: 0.3424 - accuracy: 0.8790 - val_loss: 0.3647 - val_accuracy: 0.8750\n",
      "Epoch 12/20\n",
      "504/504 [==============================] - 126s 251ms/step - loss: 0.3323 - accuracy: 0.8849 - val_loss: 0.3549 - val_accuracy: 0.8929\n",
      "Epoch 13/20\n",
      "504/504 [==============================] - 126s 251ms/step - loss: 0.3205 - accuracy: 0.8730 - val_loss: 0.3776 - val_accuracy: 0.8393\n",
      "Epoch 14/20\n",
      "504/504 [==============================] - 128s 254ms/step - loss: 0.3402 - accuracy: 0.8909 - val_loss: 0.3876 - val_accuracy: 0.8750\n",
      "Epoch 15/20\n",
      "504/504 [==============================] - 127s 252ms/step - loss: 0.2943 - accuracy: 0.8869 - val_loss: 0.4365 - val_accuracy: 0.8571\n",
      "Epoch 16/20\n",
      "504/504 [==============================] - 130s 257ms/step - loss: 0.3220 - accuracy: 0.8770 - val_loss: 0.3718 - val_accuracy: 0.8929\n",
      "Epoch 17/20\n",
      "504/504 [==============================] - 125s 248ms/step - loss: 0.3139 - accuracy: 0.8889 - val_loss: 0.3610 - val_accuracy: 0.8750\n",
      "Epoch 18/20\n",
      "504/504 [==============================] - 124s 245ms/step - loss: 0.2960 - accuracy: 0.8909 - val_loss: 0.3555 - val_accuracy: 0.8929\n",
      "Epoch 19/20\n",
      "504/504 [==============================] - 132s 261ms/step - loss: 0.2849 - accuracy: 0.9008 - val_loss: 0.3388 - val_accuracy: 0.9107\n",
      "Epoch 20/20\n",
      "504/504 [==============================] - 134s 266ms/step - loss: 0.2745 - accuracy: 0.9107 - val_loss: 0.3529 - val_accuracy: 0.8750\n"
     ]
    }
   ],
   "source": [
    "checkpoint = ModelCheckpoint('model-{epoch:03d}.model',monitor='val_loss',verbose=0,save_best_only=True,mode='auto')\n",
    "history=model.fit(train_data,train_target,epochs=20,callbacks=[checkpoint],validation_split=0.1)"
   ]
  },
  {
   "cell_type": "code",
   "execution_count": 5,
   "metadata": {
    "colab": {
     "base_uri": "https://localhost:8080/",
     "height": 279
    },
    "colab_type": "code",
    "id": "F0lkS8paengW",
    "outputId": "9374bed5-8262-4516-ecfd-06a611acb924"
   },
   "outputs": [
    {
     "data": {
      "image/png": "[encoded data removed]",
      "text/plain": [
       "<Figure size 432x288 with 1 Axes>"
      ]
     },
     "metadata": {
      "needs_background": "light"
     },
     "output_type": "display_data"
    }
   ],
   "source": [
    "from matplotlib import pyplot as plt\n",
    "\n",
    "plt.plot(history.history['loss'],'r',label='training loss')\n",
    "plt.plot(history.history['val_loss'],label='validation loss')\n",
    "plt.xlabel('# epochs')\n",
    "plt.ylabel('loss')\n",
    "plt.legend()\n",
    "plt.show()"
   ]
  },
  {
   "cell_type": "code",
   "execution_count": 6,
   "metadata": {
    "colab": {
     "base_uri": "https://localhost:8080/",
     "height": 279
    },
    "colab_type": "code",
    "id": "gU5uAPX4pBgq",
    "outputId": "b7e4e36b-e260-4635-e640-41578bc752dc"
   },
   "outputs": [
    {
     "data": {
      "image/png": "[encoded data removed]",
      "text/plain": [
       "<Figure size 432x288 with 1 Axes>"
      ]
     },
     "metadata": {
      "needs_background": "light"
     },
     "output_type": "display_data"
    }
   ],
   "source": [
    "plt.plot(history.history['accuracy'],'r',label='training accuracy')\n",
    "plt.plot(history.history['val_accuracy'],label='validation accuracy')\n",
    "plt.xlabel('# epochs')\n",
    "plt.ylabel('loss')\n",
    "plt.legend()\n",
    "plt.show()"
   ]
  },
  {
   "cell_type": "code",
   "execution_count": 7,
   "metadata": {
    "colab": {
     "base_uri": "https://localhost:8080/",
     "height": 51
    },
    "colab_type": "code",
    "id": "66XB-M0NpEIR",
    "outputId": "4facb8ee-41cd-46b2-c237-27b548c85e2a"
   },
   "outputs": [
    {
     "name": "stdout",
     "output_type": "stream",
     "text": [
      "63/63 [==============================] - 4s 62ms/step\n",
      "[0.4394594142361293, 0.8730158805847168]\n"
     ]
    }
   ],
   "source": [
    "print(model.evaluate(test_data,test_target))"
   ]
  },
  {
   "cell_type": "code",
   "execution_count": null,
   "metadata": {},
   "outputs": [],
   "source": []
  }
 ],
 "metadata": {
  "accelerator": "GPU",
  "colab": {
   "name": "3.0 Training the CNN.ipynb",
   "provenance": []
  },
  "kernelspec": {
   "display_name": "Python 3",
   "language": "python",
   "name": "python3"
  },
  "language_info": {
   "codemirror_mode": {
    "name": "ipython",
    "version": 3
   },
   "file_extension": ".py",
   "mimetype": "text/x-python",
   "name": "python",
   "nbconvert_exporter": "python",
   "pygments_lexer": "ipython3",
   "version": "3.6.13"
  }
 },
 "nbformat": 4,
 "nbformat_minor": 1
}
